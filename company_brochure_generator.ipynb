{
  "nbformat": 4,
  "nbformat_minor": 0,
  "metadata": {
    "colab": {
      "provenance": [],
      "authorship_tag": "ABX9TyNI91e90vHn5KXLDzcXRXPM",
      "include_colab_link": true
    },
    "kernelspec": {
      "name": "python3",
      "display_name": "Python 3"
    },
    "language_info": {
      "name": "python"
    }
  },
  "cells": [
    {
      "cell_type": "markdown",
      "metadata": {
        "id": "view-in-github",
        "colab_type": "text"
      },
      "source": [
        "<a href=\"https://colab.research.google.com/github/0karim0/company-brochure-generator/blob/main/company_brochure_generator.ipynb\" target=\"_parent\"><img src=\"https://colab.research.google.com/assets/colab-badge.svg\" alt=\"Open In Colab\"/></a>"
      ]
    },
    {
      "cell_type": "code",
      "execution_count": null,
      "metadata": {
        "id": "Br07RHQPwVoK"
      },
      "outputs": [],
      "source": [
        "import os\n",
        "import request\n",
        "\n",
        "from bs4 import BeautifulSoup\n",
        "from typing import List\n",
        "from dotenv import load_dotenv\n",
        "\n",
        "from openai import OpenAI\n",
        "import anthropic\n",
        "\n",
        "import gradio as gr"
      ]
    },
    {
      "cell_type": "code",
      "source": [
        "# Load environment variables in a file called .env\n",
        "\n",
        "\n",
        "load_dotenv(override=True)\n",
        "openai_api_key = os.getenv('OPENAI_API_KEY')\n",
        "anthropic_api_key = os.getenv('ANTHROPIC_API_KEY')\n",
        "google_api_key = os.getenv('GOOGLE_API_KEY')"
      ],
      "metadata": {
        "id": "Si9pSk6Twels"
      },
      "execution_count": null,
      "outputs": []
    },
    {
      "cell_type": "code",
      "source": [
        "# Connect to OpenAI, Anthropic and Google; comment out the Claude or Google lines if you're not using them\n",
        "\n",
        "openai = OpenAI()\n",
        "\n",
        "claude = anthropic.Anthropic()"
      ],
      "metadata": {
        "id": "isOkRMF8wrM1"
      },
      "execution_count": null,
      "outputs": []
    },
    {
      "cell_type": "code",
      "source": [
        "# create a call that streams back results\n",
        "\n",
        "\n",
        "\n",
        "def stream_gpt(prompt):\n",
        "    messages = [\n",
        "        {\"role\": \"system\", \"content\": system_message},\n",
        "        {\"role\": \"user\", \"content\": prompt}\n",
        "      ]\n",
        "    stream = openai.chat.completions.create(\n",
        "        model='gpt-4o-mini',\n",
        "        messages=messages,\n",
        "        stream=True\n",
        "    )\n",
        "    result = \"\"\n",
        "    for chunk in stream:\n",
        "        result += chunk.choices[0].delta.content or \"\"\n",
        "        yield result"
      ],
      "metadata": {
        "id": "--ZYnt0tw0Pw"
      },
      "execution_count": null,
      "outputs": []
    },
    {
      "cell_type": "code",
      "source": [
        "def stream_claude(prompt):\n",
        "    result = claude.messages.stream(\n",
        "        model=\"claude-3-haiku-20240307\",\n",
        "        max_tokens=1000,\n",
        "        temperature=0.7,\n",
        "        system=system_message,\n",
        "        messages=[\n",
        "            {\"role\": \"user\", \"content\": prompt},\n",
        "        ],\n",
        "    )\n",
        "    response = \"\"\n",
        "    with result as stream:\n",
        "        for text in stream.text_stream:\n",
        "            response += text or \"\"\n",
        "            yield response"
      ],
      "metadata": {
        "id": "bkPFKAJYxKby"
      },
      "execution_count": null,
      "outputs": []
    },
    {
      "cell_type": "code",
      "source": [
        "# A class to represent a Webpage\n",
        "\n",
        "class Website:\n",
        "    url: str\n",
        "    title: str\n",
        "    text: str\n",
        "\n",
        "    def __init__(self, url):\n",
        "        self.url = url\n",
        "        response = requests.get(url)\n",
        "        self.body = response.content\n",
        "        soup = BeautifulSoup(self.body, 'html.parser')\n",
        "        self.title = soup.title.string if soup.title else \"No title found\"\n",
        "        for irrelevant in soup.body([\"script\", \"style\", \"img\", \"input\"]):\n",
        "            irrelevant.decompose()\n",
        "        self.text = soup.body.get_text(separator=\"\\n\", strip=True)\n",
        "\n",
        "    def get_contents(self):\n",
        "        return f\"Webpage Title:\\n{self.title}\\nWebpage Contents:\\n{self.text}\\n\\n\""
      ],
      "metadata": {
        "id": "Nc0rQtkJxOxm"
      },
      "execution_count": null,
      "outputs": []
    },
    {
      "cell_type": "code",
      "source": [
        "# With massive thanks to Bill G. who noticed that a prior version of this had a bug! Now fixed.\n",
        "\n",
        "system_message = \"You are an assistant that analyzes the contents of a company website landing page \\\n",
        "and creates a short brochure about the company for prospective customers, investors and recruits. Respond in markdown.\""
      ],
      "metadata": {
        "id": "Fk1TG5mrxTgu"
      },
      "execution_count": null,
      "outputs": []
    },
    {
      "cell_type": "code",
      "source": [
        "def stream_brochure(company_name, url, model):\n",
        "    prompt = f\"Please generate a company brochure for {company_name}. Here is their landing page:\\n\"\n",
        "    prompt += Website(url).get_contents()\n",
        "    if model==\"GPT\":\n",
        "        result = stream_gpt(prompt)\n",
        "    elif model==\"Claude\":\n",
        "        result = stream_claude(prompt)\n",
        "    else:\n",
        "        raise ValueError(\"Unknown model\")\n",
        "    yield from result"
      ],
      "metadata": {
        "id": "aMAcgbhqxbO3"
      },
      "execution_count": null,
      "outputs": []
    },
    {
      "cell_type": "code",
      "source": [
        "view = gr.Interface(\n",
        "    fn=stream_brochure,\n",
        "    inputs=[\n",
        "        gr.Textbox(label=\"Company name:\"),\n",
        "        gr.Textbox(label=\"Landing page URL including http:// or https://\"),\n",
        "        gr.Dropdown([\"GPT\", \"Claude\"], label=\"Select model\")],\n",
        "    outputs=[gr.Markdown(label=\"Brochure:\")],\n",
        "    flagging_mode=\"never\"\n",
        ")\n",
        "view.launch()"
      ],
      "metadata": {
        "id": "7eN4lF81xduY"
      },
      "execution_count": null,
      "outputs": []
    }
  ]
}